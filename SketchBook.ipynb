{
  "nbformat": 4,
  "nbformat_minor": 0,
  "metadata": {
    "colab": {
      "name": "Untitled1.ipynb",
      "provenance": [],
      "include_colab_link": true
    },
    "kernelspec": {
      "name": "python3",
      "display_name": "Python 3"
    }
  },
  "cells": [
    {
      "cell_type": "markdown",
      "metadata": {
        "id": "view-in-github",
        "colab_type": "text"
      },
      "source": [
        "<a href=\"https://colab.research.google.com/github/spaziochirale/CorsoPythonML/blob/master/SketchBook.ipynb\" target=\"_parent\"><img src=\"https://colab.research.google.com/assets/colab-badge.svg\" alt=\"Open In Colab\"/></a>"
      ]
    },
    {
      "cell_type": "markdown",
      "metadata": {
        "id": "6dxmLE_7Od6d"
      },
      "source": [
        "# SketchBook per la lezione introduttiva di Python\n",
        "Programma di calcolo età approssimativa in giorni.\n",
        "Approssimativa perché non tiene conto del fatto che oggi non è il tuo compleanno e non considera i giorni trascorsi dall'ultimo compleanno."
      ]
    },
    {
      "cell_type": "code",
      "metadata": {
        "id": "DQo9sevBOiQb"
      },
      "source": [
        "nome = input('Come ti chiami? ')\n",
        "print('Ciao',nome)\n",
        "anni =eval(input('Quanti anni hai? '))\n",
        "print('allora caro',nome,'tu hai circa',anni*365,'giorni!')\n"
      ],
      "execution_count": null,
      "outputs": []
    },
    {
      "cell_type": "markdown",
      "metadata": {
        "id": "ezTgLs2Vr5n1"
      },
      "source": [
        "Questo è un *esempio* di utilizzo dell'istruzione di diramazione condizionale `if...else`"
      ]
    },
    {
      "cell_type": "code",
      "metadata": {
        "id": "1hNkjyfhsEaz"
      },
      "source": [
        "n=input('Come ti chiami?')\n",
        "a=eval(input('scrivi un numero'))\n",
        "if a<0:\n",
        "  print('il numero è negativo')\n",
        "  print(n,'per favore non usare numeri negativi')\n",
        "  print('perché non mi piacciono')\n",
        "else:\n",
        "  if a==0:\n",
        "    print('il numero è zero')\n",
        "    print('per favore usa un numero positivo non nullo')\n",
        "  else:\n",
        "    print('bravo è il tipo di numero giusto')\n",
        "\n",
        "print('Il doppio del tuo numero è',a*2)\n"
      ],
      "execution_count": null,
      "outputs": []
    },
    {
      "cell_type": "markdown",
      "metadata": {
        "id": "K0W9zXeY78py"
      },
      "source": [
        "Il prossimo programma, chiede il tuo nome, la tua età e risponde comunicandoti se sei o meno maggiorenne."
      ]
    },
    {
      "cell_type": "code",
      "metadata": {
        "id": "gY815Xet8PcP"
      },
      "source": [
        "nome = input('Come ti chiami? ')\n",
        "anni = eval(input('Quanti anni hai? '))\n",
        "if anni<18:\n",
        "  print('Caro',nome,'sei minorenne!')\n",
        "else:\n",
        "  print('Caro',nome,'sei maggiorenne!')"
      ],
      "execution_count": null,
      "outputs": []
    },
    {
      "cell_type": "markdown",
      "metadata": {
        "id": "EIEfy7-09E7s"
      },
      "source": [
        "Complichiamo il programma precedente facendo in modo che risponda se sei minorenne, maggiorenne ma non puoi votare per il Senato, oppure maggiorenne e puoi votare per il senato.\n",
        "L'età per votare per il senato è 21 anni."
      ]
    },
    {
      "cell_type": "code",
      "metadata": {
        "id": "agtRgdGU9jDP"
      },
      "source": [
        "nome = input('Come ti chiami? ')\n",
        "anni = eval(input('Quanti anni hai? '))\n",
        "if anni >= 21:\n",
        "  print('Caro',nome,'sei maggiorenne e puoi votare per il Senato!')\n",
        "else:\n",
        "  if anni >=18:\n",
        "    print('Caro',nome,'sei maggiorenne ma non puoi votare per il Senato')\n",
        "  else:\n",
        "    print('Caro',nome, 'sei minorenne!')\n",
        "print('Ciao, alla prossima!')\n"
      ],
      "execution_count": null,
      "outputs": []
    },
    {
      "cell_type": "markdown",
      "metadata": {
        "id": "dXFkJlcEAeHn"
      },
      "source": [
        "Soluzione alternativa"
      ]
    },
    {
      "cell_type": "code",
      "metadata": {
        "id": "Vc-z_pNSAgZL"
      },
      "source": [
        "nome = input('Come ti chiami? ')\n",
        "anni = eval(input('Quanti anni hai? '))\n",
        "if anni <18:\n",
        "  print('Caro',nome,'Sei minorenne!')\n",
        "else:\n",
        "  if anni <21:\n",
        "    print('Caro',nome,'sei maggiorenne ma non puoi votare per il Senato')\n",
        "  else:\n",
        "    print('Caro',nome,'sei maggiorenne e puoi votare per il Senato')\n",
        "print('Ciao, alla prossima!')"
      ],
      "execution_count": null,
      "outputs": []
    },
    {
      "cell_type": "markdown",
      "metadata": {
        "id": "kYIyi1CrByKc"
      },
      "source": [
        "Utilizzo della `elif`"
      ]
    },
    {
      "cell_type": "code",
      "metadata": {
        "id": "OFJ4D3-1B1ne"
      },
      "source": [
        "nome = input('Come ti chiami? ')\n",
        "anni = eval(input('Quanti anni hai? '))\n",
        "if anni <18:\n",
        "  print('Caro',nome,'Sei minorenne!')\n",
        "elif anni <21:\n",
        "  print('Caro',nome,'sei maggiorenne ma non puoi votare per il Senato')\n",
        "else:\n",
        "  print('Caro',nome,'sei maggiorenne e puoi votare per il Senato')\n",
        "print('Ciao, alla prossima!')"
      ],
      "execution_count": null,
      "outputs": []
    }
  ]
}